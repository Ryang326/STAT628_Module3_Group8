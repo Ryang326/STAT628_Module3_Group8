{
 "cells": [
  {
   "cell_type": "code",
   "execution_count": 1,
   "metadata": {},
   "outputs": [],
   "source": [
    "import pandas as pd\n",
    "import numpy as np\n",
    "import matplotlib.pyplot as plt\n",
    "%matplotlib inline\n",
    "import seaborn as sns\n"
   ]
  },
  {
   "cell_type": "code",
   "execution_count": 2,
   "metadata": {},
   "outputs": [],
   "source": [
    "df = pd.read_csv('pizza_hut.csv')\n",
    "#df = pd.read_csv('sentiment_result.csv')"
   ]
  },
  {
   "cell_type": "code",
   "execution_count": 3,
   "metadata": {},
   "outputs": [
    {
     "name": "stdout",
     "output_type": "stream",
     "text": [
      "['Unnamed: 0' 'Unnamed: 0.1' 'business_id' 'delivery' 'pay' 'card'\n",
      " 'credit' 'pickup' 'smile' 'service' 'rude' 'polite' 'management' 'car'\n",
      " 'wait' 'refund' 'friendly' 'kind' 'manager' 'counter' 'staff' 'driver'\n",
      " 'employee' 'cheese' 'fresh' 'pepperoni' 'sauce' 'star' 'delicious' 'thin'\n",
      " 'garlic' 'stick' 'breadstick' 'pie' 'pepper' 'crispy' 'slice' 'email'\n",
      " 'pasta' 'wing' 'chicken' 'bread' 'yummy' 'mushroom' 'meat' 'marinara'\n",
      " 'family' 'brownie' 'bbq' 'water' 'bacon' 'cinnamon' 'sausage' 'shop_star'\n",
      " 'BusinessAcceptsCreditCards' 'Caters' 'GoodForKids' 'HasTV'\n",
      " 'OutdoorSeating' 'RestaurantsAttire' 'RestaurantsDelivery'\n",
      " 'RestaurantsGoodForGroups' 'RestaurantsPriceRange2'\n",
      " 'RestaurantsReservations' 'RestaurantsTakeOut']\n"
     ]
    }
   ],
   "source": [
    "print(df.columns.values)"
   ]
  },
  {
   "cell_type": "code",
   "execution_count": 14,
   "metadata": {},
   "outputs": [
    {
     "data": {
      "text/plain": [
       "array([1, 2, 3, 4])"
      ]
     },
     "execution_count": 14,
     "metadata": {},
     "output_type": "execute_result"
    }
   ],
   "source": [
    "np.arange(1,5)"
   ]
  },
  {
   "cell_type": "code",
   "execution_count": 19,
   "metadata": {},
   "outputs": [
    {
     "data": {
      "image/png": "[encoded data removed]",
      "text/plain": [
       "<Figure size 432x288 with 1 Axes>"
      ]
     },
     "metadata": {
      "needs_background": "light"
     },
     "output_type": "display_data"
    }
   ],
   "source": [
    "df2 = df\n",
    "p1 = sns.countplot(x='Caters', hue = 'shop_star',data=df2)\n"
   ]
  },
  {
   "cell_type": "code",
   "execution_count": null,
   "metadata": {},
   "outputs": [],
   "source": [
    "'Caters','GoodForKids','HasTV','RestaurantsGoodForGroups'，"
   ]
  },
  {
   "cell_type": "code",
   "execution_count": null,
   "metadata": {},
   "outputs": [],
   "source": [
    "fig = plt.figure(figsize=(30,15))\n",
    "fig.set(alpha=0.2) # 设定图表颜色alpha参数\n",
    "\n",
    "df2.GoodForKids = df2.RestaurantsGoodForGroups\n",
    "star1 = df2.GoodForKids[df2.shop_star == 1].value_counts()\n",
    "star1_5 = df2.GoodForKids[df2.shop_star == 1.5].value_counts()\n",
    "star2 = df2.GoodForKids[df2.shop_star == 2].value_counts()\n",
    "star2_5 = df2.GoodForKids[df2.shop_star == 2.5].value_counts()\n",
    "star3 = df2.GoodForKids[df2.shop_star == 3].value_counts()\n",
    "star3_5 = df2.GoodForKids[df2.shop_star == 3.5].value_counts()\n",
    "df=pd.DataFrame({u'star = 1':star1, \n",
    "                 u'star = 1.5':star1_5,\n",
    "                 u'star = 2':star2,\n",
    "                 u'star = 2.5':star2_5,\n",
    "                 u'star = 3':star3,\n",
    "                 u'star = 3.5':star3_5})\n",
    "df['star = 3.5']=([0,1])\n",
    "stacked_data = df.apply(lambda x: x*100/sum(x), axis=1)\n",
    "stacked_data.plot(kind=\"bar\", stacked=True)\n",
    "plt.title(\"RestaurantsGoodForGroups vs Stars\")\n",
    "plt.xlabel(\"RestaurantsGoodForGroups\")\n",
    "plt.ylabel(\"Percentage (%)\")\n",
    "plt.legend(loc=(1.02, 4.5/9),frameon = True) # edgecolor = 'black'\n",
    "plt.savefig('RestaurantsGoodForGroups.png',dpi=300,bbox_inches = 'tight')\n",
    "# plt.legend(loc='upper right', edgecolor = 'black', frameon = False)\n",
    "plt.show()"
   ]
  },
  {
   "cell_type": "code",
   "execution_count": null,
   "metadata": {},
   "outputs": [],
   "source": []
  },
  {
   "cell_type": "code",
   "execution_count": null,
   "metadata": {},
   "outputs": [],
   "source": [
    "df"
   ]
  },
  {
   "cell_type": "code",
   "execution_count": null,
   "metadata": {},
   "outputs": [],
   "source": [
    "print(df2.columns.values)"
   ]
  },
  {
   "cell_type": "code",
   "execution_count": null,
   "metadata": {},
   "outputs": [],
   "source": [
    "#sns.swarmplot(x=\"shop_star\",y=\"cold\",data=df2)\n",
    "sns.stripplot(x=\"shop_star\",y=\"wing\",data=df2)"
   ]
  },
  {
   "cell_type": "code",
   "execution_count": null,
   "metadata": {},
   "outputs": [],
   "source": [
    "#thin manager staff wait cold wing stick breadstick crispy"
   ]
  },
  {
   "cell_type": "code",
   "execution_count": null,
   "metadata": {},
   "outputs": [],
   "source": [
    "word_list = ['shop_star', 'user1_cnt','user2_cnt','user3_cnt','user4_cnt','user5_cnt',\n",
    "             'delivery','staff','service','is_good_for_kids','is_good_for_family',\n",
    "             'suggestions'\n",
    "            ] \n",
    "fake_data = pd.DataFrame(columns=(['business_id'] + word_list))\n",
    "fake_data.loc[0]=['shop1', 3.5, 1,2,3,4,5,6,7,8,9,10,'you should update your menu.']\n",
    "fake_data.loc[1]=['shop2', 2,   11,12,13,14,15,16,17,18,19,20,'pizza is bad.']\n",
    "fake_data.to_csv('fake_data.csv')"
   ]
  },
  {
   "cell_type": "code",
   "execution_count": null,
   "metadata": {},
   "outputs": [],
   "source": [
    "#computer mean and sd\n",
    "df3 = df2[['shop_star','GoodForKids','RestaurantsGoodForGroups']]\n",
    "df3.groupby('GoodForKids').agg('mean')\n"
   ]
  },
  {
   "cell_type": "code",
   "execution_count": null,
   "metadata": {},
   "outputs": [],
   "source": [
    "df3 = df2[['shop_star','GoodForKids','RestaurantsGoodForGroups']]\n",
    "df3.groupby('GoodForKids').agg('std')"
   ]
  }
 ],
 "metadata": {
  "kernelspec": {
   "display_name": "Python 3",
   "language": "python",
   "name": "python3"
  },
  "language_info": {
   "codemirror_mode": {
    "name": "ipython",
    "version": 3
   },
   "file_extension": ".py",
   "mimetype": "text/x-python",
   "name": "python",
   "nbconvert_exporter": "python",
   "pygments_lexer": "ipython3",
   "version": "3.7.6"
  }
 },
 "nbformat": 4,
 "nbformat_minor": 4
}
