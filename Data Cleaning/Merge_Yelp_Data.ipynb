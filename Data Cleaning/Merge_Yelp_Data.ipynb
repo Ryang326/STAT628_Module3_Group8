{
 "cells": [
  {
   "cell_type": "code",
   "execution_count": 1,
   "id": "fbeee90b",
   "metadata": {},
   "outputs": [],
   "source": [
    "import json\n",
    "import pandas as pd"
   ]
  },
  {
   "cell_type": "code",
   "execution_count": 2,
   "id": "8d8dc3ad",
   "metadata": {},
   "outputs": [],
   "source": [
    "# load business data\n",
    "json_data = []\n",
    "json_file = \"business.json\"\n",
    "file = open(json_file, encoding='utf-8')\n",
    "for line in file:\n",
    "\tjson_line = json.loads(line)\n",
    "\tjson_data.append(json_line)\n",
    "business = pd.DataFrame(json_data)"
   ]
  },
  {
   "cell_type": "code",
   "execution_count": 3,
   "id": "13b4db41",
   "metadata": {},
   "outputs": [],
   "source": [
    "# load review data\n",
    "json_data = []\n",
    "json_file = \"review.json\"\n",
    "file = open(json_file, encoding='utf-8')\n",
    "for line in file:\n",
    "\tjson_line = json.loads(line)\n",
    "\tjson_data.append(json_line)\n",
    "review = pd.DataFrame(json_data)"
   ]
  },
  {
   "cell_type": "code",
   "execution_count": 4,
   "id": "3da735dc",
   "metadata": {},
   "outputs": [],
   "source": [
    "### drop closed business and then drop the identified column\n",
    "business = business[business['is_open'] == 1]\n",
    "business = business.drop(columns=['is_open'])\n",
    "### Select business which cook pizza\n",
    "business = business[business['categories'].str.contains(\"pizza\", na=False, case=False)==True]"
   ]
  },
  {
   "cell_type": "code",
   "execution_count": 5,
   "id": "61a2909c",
   "metadata": {},
   "outputs": [],
   "source": [
    "### inner merge business and review data by the key as business_id \n",
    "businessreview = pd.merge(business, review, how='inner', on = 'business_id')"
   ]
  },
  {
   "cell_type": "code",
   "execution_count": 6,
   "id": "d6577234",
   "metadata": {},
   "outputs": [],
   "source": [
    "#drop unuseful data\n",
    "businessreview = businessreview.drop(columns=['categories', 'useful','funny','cool'])"
   ]
  },
  {
   "cell_type": "code",
   "execution_count": 7,
   "id": "b1306e1b",
   "metadata": {},
   "outputs": [],
   "source": [
    "#output the review of all pizza restaurants \n",
    "businessreview.to_csv('Pizza_Review.csv', index=False)  "
   ]
  },
  {
   "cell_type": "code",
   "execution_count": null,
   "id": "59c929f6",
   "metadata": {},
   "outputs": [],
   "source": []
  }
 ],
 "metadata": {
  "kernelspec": {
   "display_name": "Python 3",
   "language": "python",
   "name": "python3"
  },
  "language_info": {
   "codemirror_mode": {
    "name": "ipython",
    "version": 3
   },
   "file_extension": ".py",
   "mimetype": "text/x-python",
   "name": "python",
   "nbconvert_exporter": "python",
   "pygments_lexer": "ipython3",
   "version": "3.7.10"
  }
 },
 "nbformat": 4,
 "nbformat_minor": 5
}
